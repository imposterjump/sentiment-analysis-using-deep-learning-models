{
 "cells": [
  {
   "cell_type": "code",
   "execution_count": 1,
   "metadata": {},
   "outputs": [
    {
     "name": "stdout",
     "output_type": "stream",
     "text": [
      "c:\\ProgramData\\anaconda3\\envs\\sentiment2\\python.exe\n"
     ]
    }
   ],
   "source": [
    "import sys\n",
    "print(sys.executable)\n"
   ]
  },
  {
   "cell_type": "code",
   "execution_count": 2,
   "metadata": {},
   "outputs": [
    {
     "name": "stdout",
     "output_type": "stream",
     "text": [
      "Python exec: c:\\ProgramData\\anaconda3\\envs\\sentiment2\\python.exe\n",
      "Torch lib: c:\\ProgramData\\anaconda3\\envs\\sentiment2\\lib\\site-packages\\torch\\__init__.py\n",
      "Torch version: 2.1.1+cu118\n",
      "CUDA available: True\n",
      "CUDA version: 11.8\n",
      "cuDNN version: 8700\n",
      "  → GPU: NVIDIA GeForce RTX 3060\n"
     ]
    }
   ],
   "source": [
    "import sys, torch\n",
    "\n",
    "print(\"Python exec:\", sys.executable)\n",
    "print(\"Torch lib:\", torch.__file__)\n",
    "print(\"Torch version:\", torch.__version__)\n",
    "print(\"CUDA available:\", torch.cuda.is_available())\n",
    "print(\"CUDA version:\", torch.version.cuda)\n",
    "print(\"cuDNN version:\", torch.backends.cudnn.version())\n",
    "if torch.cuda.is_available():\n",
    "    print(\"  → GPU:\", torch.cuda.get_device_name(0))\n"
   ]
  },
  {
   "cell_type": "code",
   "execution_count": 3,
   "metadata": {},
   "outputs": [
    {
     "name": "stderr",
     "output_type": "stream",
     "text": [
      "c:\\ProgramData\\anaconda3\\envs\\sentiment2\\lib\\site-packages\\tqdm\\auto.py:21: TqdmWarning: IProgress not found. Please update jupyter and ipywidgets. See https://ipywidgets.readthedocs.io/en/stable/user_install.html\n",
      "  from .autonotebook import tqdm as notebook_tqdm\n"
     ]
    },
    {
     "name": "stdout",
     "output_type": "stream",
     "text": [
      "Torch CUDA available: True\n",
      "  → GPU detected: NVIDIA GeForce RTX 3060\n",
      "Torch version:        2.1.1+cu118\n",
      "Transformers version: 4.51.0\n",
      "Pandas version:       2.2.3\n",
      "NumPy version:        1.26.3\n",
      "Scikit-learn version: 1.6.1\n"
     ]
    }
   ],
   "source": [
    "# Cell 1: Imports & environment check\n",
    "\n",
    "import torch\n",
    "import transformers\n",
    "import pandas as pd\n",
    "import numpy as np\n",
    "import sklearn\n",
    "\n",
    "# 1. GPU check\n",
    "print(\"Torch CUDA available:\", torch.cuda.is_available())\n",
    "if torch.cuda.is_available():\n",
    "    print(\"  → GPU detected:\", torch.cuda.get_device_name(0))\n",
    "\n",
    "# 2. Version info\n",
    "print(\"Torch version:       \", torch.__version__)\n",
    "print(\"Transformers version:\", transformers.__version__)\n",
    "print(\"Pandas version:      \", pd.__version__)\n",
    "print(\"NumPy version:       \", np.__version__)\n",
    "print(\"Scikit-learn version:\", sklearn.__version__)\n"
   ]
  },
  {
   "cell_type": "code",
   "execution_count": 4,
   "metadata": {},
   "outputs": [
    {
     "name": "stdout",
     "output_type": "stream",
     "text": [
      "Raw train.csv shape: (25000, 4)\n"
     ]
    },
    {
     "data": {
      "application/vnd.microsoft.datawrangler.viewer.v0+json": {
       "columns": [
        {
         "name": "index",
         "rawType": "int64",
         "type": "integer"
        },
        {
         "name": "text",
         "rawType": "object",
         "type": "string"
        },
        {
         "name": "text_len",
         "rawType": "int64",
         "type": "integer"
        },
        {
         "name": "score",
         "rawType": "int64",
         "type": "integer"
        },
        {
         "name": "label",
         "rawType": "int64",
         "type": "integer"
        }
       ],
       "ref": "559884f8-426d-45f1-91dd-fdefdb844326",
       "rows": [
        [
         "0",
         "Bromwell High is a cartoon comedy. It ran at the same time as some other programs about school life, such as \"Teachers\". My 35 years in the teaching profession lead me to believe that Bromwell High's satire is much closer to reality than is \"Teachers\". The scramble to survive financially, the insightful students who can see right through their pathetic teachers' pomp, the pettiness of the whole situation, all remind me of the schools I knew and their students. When I saw the episode in which a student repeatedly tried to burn down the school, I immediately recalled ......... at .......... High. A classic line: INSPECTOR: I'm here to sack one of your teachers. STUDENT: Welcome to Bromwell High. I expect that many adults of my age think that Bromwell High is far fetched. What a pity that it isn't!",
         "806",
         "9",
         "1"
        ],
        [
         "1",
         "Homelessness (or Houselessness as George Carlin stated) has been an issue for years but never a plan to help those on the street that were once considered human who did everything from going to school, work, or vote for the matter. Most people think of the homeless as just a lost cause while worrying about things such as racism, the war on Iraq, pressuring kids to succeed, technology, the elections, inflation, or worrying if they'll be next to end up on the streets.But what if you were given a bet to live on the streets for a month without the luxuries you once had from a home, the entertainment sets, a bathroom, pictures on the wall, a computer, and everything you once treasure to see what it's like to be homeless? That is Goddard Bolt's lesson.Mel Brooks (who directs) who stars as Bolt plays a rich man who has everything in the world until deciding to make a bet with a sissy rival (Jeffery Tambor) to see if he can live in the streets for thirty days without the luxuries; if Bolt succeeds, he can do what he wants with a future project of making more buildings. The bet's on where Bolt is thrown on the street with a bracelet on his leg to monitor his every move where he can't step off the sidewalk. He's given the nickname Pepto by a vagrant after it's written on his forehead where Bolt meets other characters including a woman by the name of Molly (Lesley Ann Warren) an ex-dancer who got divorce before losing her home, and her pals Sailor (Howard Morris) and Fumes (Teddy Wilson) who are already used to the streets. They're survivors. Bolt isn't. He's not used to reaching mutual agreements like he once did when being rich where it's fight or flight, kill or be killed.While the love connection between Molly and Bolt wasn't necessary to plot, I found \"Life Stinks\" to be one of Mel Brooks' observant films where prior to being a comedy, it shows a tender side compared to his slapstick work such as Blazing Saddles, Young Frankenstein, or Spaceballs for the matter, to show what it's like having something valuable before losing it the next day or on the other hand making a stupid bet like all rich people do when they don't know what to do with their money. Maybe they should give it to the homeless instead of using it like Monopoly money.Or maybe this film will inspire you to help others.",
         "2318",
         "8",
         "1"
        ],
        [
         "2",
         "Brilliant over-acting by Lesley Ann Warren. Best dramatic hobo lady I have ever seen, and love scenes in clothes warehouse are second to none. The corn on face is a classic, as good as anything in Blazing Saddles. The take on lawyers is also superb. After being accused of being a turncoat, selling out his boss, and being dishonest the lawyer of Pepto Bolt shrugs indifferently \"I'm a lawyer\" he says. Three funny words. Jeffrey Tambor, a favorite from the later Larry Sanders show, is fantastic here too as a mad millionaire who wants to crush the ghetto. His character is more malevolent than usual. The hospital scene, and the scene where the homeless invade a demolition site, are all-time classics. Look for the legs scene and the two big diggers fighting (one bleeds). This movie gets better each time I see it (which is quite often).",
         "841",
         "10",
         "1"
        ],
        [
         "3",
         "This is easily the most underrated film inn the Brooks cannon. Sure, its flawed. It does not give a realistic view of homelessness (unlike, say, how Citizen Kane gave a realistic view of lounge singers, or Titanic gave a realistic view of Italians YOU IDIOTS). Many of the jokes fall flat. But still, this film is very lovable in a way many comedies are not, and to pull that off in a story about some of the most traditionally reviled members of society is truly impressive. Its not The Fisher King, but its not crap, either. My only complaint is that Brooks should have cast someone else in the lead (I love Mel as a Director and Writer, not so much as a lead).",
         "663",
         "7",
         "1"
        ],
        [
         "4",
         "This is not the typical Mel Brooks film. It was much less slapstick than most of his movies and actually had a plot that was followable. Leslie Ann Warren made the movie, she is such a fantastic, under-rated actress. There were some moments that could have been fleshed out a bit more, and some scenes that could probably have been cut to make the room to do so, but all in all, this is worth the price to rent and see it. The acting was good overall, Brooks himself did a good job without his characteristic speaking to directly to the audience. Again, Warren was the best actor in the movie, but \"Fume\" and \"Sailor\" both played their parts well.",
         "647",
         "8",
         "1"
        ]
       ],
       "shape": {
        "columns": 4,
        "rows": 5
       }
      },
      "text/html": [
       "<div>\n",
       "<style scoped>\n",
       "    .dataframe tbody tr th:only-of-type {\n",
       "        vertical-align: middle;\n",
       "    }\n",
       "\n",
       "    .dataframe tbody tr th {\n",
       "        vertical-align: top;\n",
       "    }\n",
       "\n",
       "    .dataframe thead th {\n",
       "        text-align: right;\n",
       "    }\n",
       "</style>\n",
       "<table border=\"1\" class=\"dataframe\">\n",
       "  <thead>\n",
       "    <tr style=\"text-align: right;\">\n",
       "      <th></th>\n",
       "      <th>text</th>\n",
       "      <th>text_len</th>\n",
       "      <th>score</th>\n",
       "      <th>label</th>\n",
       "    </tr>\n",
       "  </thead>\n",
       "  <tbody>\n",
       "    <tr>\n",
       "      <th>0</th>\n",
       "      <td>Bromwell High is a cartoon comedy. It ran at t...</td>\n",
       "      <td>806</td>\n",
       "      <td>9</td>\n",
       "      <td>1</td>\n",
       "    </tr>\n",
       "    <tr>\n",
       "      <th>1</th>\n",
       "      <td>Homelessness (or Houselessness as George Carli...</td>\n",
       "      <td>2318</td>\n",
       "      <td>8</td>\n",
       "      <td>1</td>\n",
       "    </tr>\n",
       "    <tr>\n",
       "      <th>2</th>\n",
       "      <td>Brilliant over-acting by Lesley Ann Warren. Be...</td>\n",
       "      <td>841</td>\n",
       "      <td>10</td>\n",
       "      <td>1</td>\n",
       "    </tr>\n",
       "    <tr>\n",
       "      <th>3</th>\n",
       "      <td>This is easily the most underrated film inn th...</td>\n",
       "      <td>663</td>\n",
       "      <td>7</td>\n",
       "      <td>1</td>\n",
       "    </tr>\n",
       "    <tr>\n",
       "      <th>4</th>\n",
       "      <td>This is not the typical Mel Brooks film. It wa...</td>\n",
       "      <td>647</td>\n",
       "      <td>8</td>\n",
       "      <td>1</td>\n",
       "    </tr>\n",
       "  </tbody>\n",
       "</table>\n",
       "</div>"
      ],
      "text/plain": [
       "                                                text  text_len  score  label\n",
       "0  Bromwell High is a cartoon comedy. It ran at t...       806      9      1\n",
       "1  Homelessness (or Houselessness as George Carli...      2318      8      1\n",
       "2  Brilliant over-acting by Lesley Ann Warren. Be...       841     10      1\n",
       "3  This is easily the most underrated film inn th...       663      7      1\n",
       "4  This is not the typical Mel Brooks film. It wa...       647      8      1"
      ]
     },
     "execution_count": 4,
     "metadata": {},
     "output_type": "execute_result"
    }
   ],
   "source": [
    "# Cell 2: Load and inspect the raw training data\n",
    "import pandas as pd\n",
    "\n",
    "# TODO: update this to the real path on your system, e.g.\n",
    "# train_path = r'C:\\Users\\akram\\data\\train.csv'\n",
    "train_path = r'C:\\NLP project\\Sentiment-Analysis-using-LSTM\\train.csv'\n",
    "\n",
    "raw_df = pd.read_csv(train_path)\n",
    "print(f\"Raw train.csv shape: {raw_df.shape}\")\n",
    "raw_df.head()\n"
   ]
  },
  {
   "cell_type": "code",
   "execution_count": 5,
   "metadata": {},
   "outputs": [
    {
     "name": "stdout",
     "output_type": "stream",
     "text": [
      "Train split shape:      (20000, 4)\n",
      "Validation split shape: (5000, 4)\n",
      "Test subset shape:      (10000, 3)\n",
      "\n",
      "--- Train head ---\n",
      "                                                                                                                                                                                                                                                                                                                                                                                                                                                                                                                                                                                                                                                                                                                                                                                                                                                                                                                                                                                                                                                                                                                                                                                                                                                                                                                                                                                                                                                                                                                                                                                                                                                                                                                                                                                                                                                                                                                                                                                                                                                                                                                                                                                                                                                                                                                                                                                                                                                                                                                                                                                                                                                                                                                         text  text_len  score  label\n",
      "Many reviews I've read reveals that most people tend to like Part One better than Part Two. I feel exactly the opposite. Part One played around a bit much with trying to find different ways of showing Che Guevara's personality through different types of film stock, different locations, and cutting back and forth between an interview and the Cuban revolution. For the most part it was structured finely but somewhat distracting. In Part Two, Che enters Bolivia, and along with changing geographical location, the rules and the structure changes. Gone are the spacial jumps and switching between stocks, the \"documentary realism\" and the treatises. Instead, now we are literally trapped with Che in a desaturated, depopulated landscape where the only people who exist are burdened too far with their lives for anything but survival to be an option. I posit that it's the dark turn of Che's life that is the real reason why most people prefer Part One to Part Two.The change in geographic location also signifies, for me at least, that Che: Part One and Che: Part Two are, in fact, the second two acts of a three act structure begun by Motorcycle Diaries. Motorcycle Diaries is Che's coming-of-age (or more appropriately, coming-of-ideals) in Argentina, Che: Part One is his military leadership in Cuba, and Che: Part Two is his downfall in Bolivia. These movies do not completely illustrate his life (we're missing his experiences in Guatamala and, more importantly in my opinion, his post-Cuban revolution executions), but they create a very detailed exploration into the controversial aspects of his character and nature as worldwide symbol. He both symbolizes the idealism and need for armed resistance to oppression, and revolutionary failings in the post-World War II third world countries and their hindering by such activities as, um, the CIAs meddling.But, yet again, all of that is projected on-screen in this case not through long scenes of dialog and speeches, but through a much more intimate, suffering portrayal of Che at the end of his thread and his life. Again, the rules have changed, and in this case it's hard to tell if there was any chance of success at all. The number of times the camera shows people literally trapped between a rock and a hard place and the desaturated, shaky long takes involves the audience into the narrative of people imprisoned in a hostile landscape, an existential hell, where revolutionary beliefs ultimately end up taking second tier to the desperation of hunted people starving to death. It's just not that easy of a movie to watch, but it's very effective.--PolarisDiB      2621      9      1\n",
      "                                                                                                                                                                                                                                                                                                                                                                                                                                                                                                                                                                                                                                                                                                                                                                                                                                                                                                                                                                                                                                                                                                                                                                                                                                                                                                                                                                                                                                                                                                                                                          The effect achieved in this story about a psychiatrist who becomes involved with con artists is so mannered that I have to assume that that was the desired intent. The sets are artificial and at no time did I not feel that I was watching a movie. It seemed like the actors were just reading their lines, rather than responding to one another. While the film has elements of early film noir (except that it is in color) the approach is so exaggerated that I almost have to conclude that it is a parody of the genre.Given that the presentation had no appeal to me, I was at least expecting an engaging story. Usually I am pretty slow on the uptake when it comes to stories with plot twists, but you could see what was coming here within the first fifteen minutes. By the time of the, \"Gee, I forgot the $80,000,\" moment, I thought to myself that this thing is truly ridiculous. For a psychiatrist with stated experience in gambling addictions to behave so stupidly is beyond belief. If at any stage she had behaved like a normal intelligent person, the whole story would have fallen apart.This wooden production left me cold.      1123      3      0\n",
      "                                                                                                                                                                                                                                                                                                                                                                                                                                                                                                                                                                                                                                                                                                                                                                                                                                                                                                                                                                                                                                                                                                                                                                                                                                                                                                                                                                                                                                                                                                                                                                                                                                                                                                                                                                                                                                                                                                                                                                                                                                                   I really enjoyed the performances of the main cast. Emma Lung is courageous and interesting. The director has developed performances where the characters are not one dimensional. A complex story with the changing between eras. Also appreciated the underlying story of the unions losing power and the effect of a large employer closing on a small town. I do not agree with the comment that the older man has to be attractive. There have be many relationships with older men and younger women - without the male being good looking. Depth of character can be appealing to the not so shallow. The film has a good look and the cinematography is also good.       650      8      1\n",
      "                                                                                                                                                                                                                                                                                                                                                                                                                                                                                                                                                                                                                                                                                                                                                                                                                                                                                                                                                                                                                                                                                                                                                                                                                                                                                                                                                                                                                                                                                                                                                           'Midnight Cowboy' was rated X with the original release back in 1969. There are some scenes where you can understand that, just a little. The movie about Joe Buck (Jon Voight) coming from Texas to New York City to become a hustler is sometimes a little disturbing. Dressed up as a cowboy he tries to live as a hustler, making money by the act of love. It does not work out as he planned. After a guy named Rico 'Ratso' Rizzo (Dustin Hoffman) first pulled a trick on him and stole some money they become friends. They live in an empty and very filthy apartment. Then Ratso gets sick and Joe has to try to make some money.The movie was probably rated X for the main subject but on the way we see some strange things. The editing in this movie is great. We see dream sequences from Joe and Ratso interrupted by the real world in a nice and sometimes funny way. Dustin Hoffman, Jon Voight and the supporting actors give great performances. Especially Hoffman delivers some fine famous lines. The score is done by John Barry and sounds great. All this makes this a great movie that won the Best Picture Oscar for a good reason.      1122      9      1\n",
      "                                                                                                                                                                                                                                                                                                                                                                                                                                                                                                                                                                                                                                                                                                                                                                                                                                                                                                                                                                                                                                                                                                                                                                                                                                                                                                                                                                                                                                                                                                                                                                                                                                                                                                                                                                                                                                                                                                                                                  As the maker of \"This Darkness,\" I admit we neglected 3 very important acknowledgments in our end credits. The omissions were over-sights that could not be corrected once committed, nor did the parties involved --- who saw the movie --- mention it at the time. On behalf of the excellent cast and crew of the film, I extend them an apology. Obviously, some criticisms posted here are harsh in light of their credit being accidentally. Our production values were negligible and our \"special effects\" were quite special indeed, but the plot is very strong and the cinematography by John McLeod is superb. We hope you, the reader, enjoy \"This Darkness\" and the efforts of those who worked their butts off for free. Thank you, Dylan O'Leary, Director.       747     10      1\n",
      "\n",
      "--- Validation head ---\n",
      "                                                                                                                                                                                                                                                                                                                                                                                                                                                                                                                                                                                                                                                                                                                                                                                                                                                                                                                                                                                                                                                                                                                                                                                                                                                                                                                                                                                                                                                                                                                                                                                                                                                                                                                                                                                                                                                                                                                                                                                                                                                                                                                                                                                                                                                                                                                                                                                                                                                                                                                                                                                                                                                                                                                                                                                                                                                                                                                                                                                                                                                                                                                                                                                                                                                                                                                                                                                                                                                                                                 text  text_len  score  label\n",
      "                                                                                                                                                                                                                                                                                                                                                                                                                                                                                                                                                                                                                                                                                                                                                                                                                                                                                                                                                                                                                                                                                                                                                                                                                                                                                                                                                                                                                                                                                                                                                                                                                                                                                                                                                                                                                                                                                                                                                                                                                                                                                                                                                                                                                                                                                                                                           Chloe is mysteriously saved from Dr. Caselli, the corrupt doctor responsible for transferring patients with abilities from Belle Reve to Project 33.1, and a fraction of second later Clark arrives. He finds that Bart Allan has returned to Smallville and they meet each other in Kent Farm. When Bart is captured by Lex during a break-in in a LuthorCorp's facility, Clark discovers that the Green Arrow had also hired Bart (a.k.a. Impulse), Arthur Curry (Aquaman) and Victor Stone (Cyborg) to investigate the Project 33.1. Clark accepts to join the trio to save Bart and invites Chloe to participate of their mission.\"Justice\" is the best episode so far of this 6th Season. In this episode, the Justice League begins its saga with the association of five heroes: Clark, Green Arrow, The Flash (\"Impulse\"), Aquaman and Cyborg. The participation of Chloe is spectacular, completing the necessary organization to the teamwork. In the end, Oliver breaks up with Lois based on the importance of fighting against criminals and Lex's secret laboratories around the world. My vote is ten.Title (Brazil): \"Justiça\" (\"Justice\")      1114     10      1\n",
      "                                                                                                                                                                                                                                                                                                                                                                                                                                                                                                                                                                                                                                                                                                                                                                                                                                                                                                                                                                                                                                                                                                                                                                                                                                                                                                                                                                                                                                                                                                                                                                                                                                                                                                                                                                                                                                                                                                                                                                                                                                                                                                                                                                                                                                                                                                                                                                                                                                                                                                                                                                                                                                                                                                                                                                                                                                                                                                                          The star of this film is the screenplay. Attention to detail for the period in dress, language ,social mores ( we don't hurt women) and the politics are remarkable. It is a reminder of Kosovo to-day. The subtle pieces in the action scenes are there for an attentive viewer and the choreography of these action sequences is superb. Perhaps this film is to close to the bone of reality to earn the support it should have received. It is like a staircase of increasing violence with well paced pauses of peace and serenity between each step. A great film....       555     10      1\n",
      "In the questionable comedy vein of Mel Brooks, \"Wholly Moses!\" tries to take the Bible story of Moses and make fun of it, resulting in the unfunniest Biblical spoof ever filmed.There is no real plot here, just excuses to trot out stalwart comedy talent in underwritten roles. Dudley Moore and Laraine Newman are on a bus tour of the Holy Land, when they stumble across an ancient scroll in a cave. There they read the story of Herschel and Zerelda, also played by Moore and Newman. Herschel's life parallels Moses'. He was sent down the river to be found by the pharaoh's family at the same time Moses was. Herschel's birth father, the late James Coco, becomes Herschel's slave after Herschel is rescued by idol makers and works as a sculptor. Eventually Herschel comes to work for the pharaoh as an astronomer, is banished, and ends up tending Moses' flock of sheep. Herschel and Moses are brothers in law, marrying sisters, and Herschel thinks God has chosen him to free his people in Egypt. Of course, Moses was receiving the Divine Word, but Herschel misunderstood. I'll pause here to laugh hysterically...pause...anyway, the rest of the film is a series of badly written scenes involving Moore and actors who are making \"special appearances.\" These scenes do not propel the plot forward, they bring what little story there is to a grinding halt.Jack Gilford plays a tailor. Dom DeLuise has maybe three lines when he meets Herschel in the desert. John Houseman is an archangel, just giving the same line readings he gave in \"The Paper Chase.\" David L. Lander is a fake blind man \"healed\" by Herschel. Andrea Martin is one of Zerelda's sisters. I was not sure who Madeline Kahn was supposed to be, she gives a ride to Herschel, and has about a minute and a half of screen time. John Ritter plays a very unfunny devil. Richard Pryor has one scene as the pharaoh, but it was obviously shot at a different time than Moore's scene because the two do not appear onscreen together! In the end, Zerelda turns into a pillar of salt after looking back on New Sodom's destruction, ha ha. Herschel writes the Ten Commandments, and gives them to Moses, who is basking in all the glory. In the final scenes, the screenwriter decide to try and salvage this shallow film by having Herschel bait God into an argument. God comes off as an all powerful bully who was leading Herschel around for his own amusement, speaking through him only to give him the Ten Commandments. We even have Zerelda quip \"God works in mysterious ways,\" thereby excusing everyone's very unChristian behavior during the film.This film is not funny. There is nary a laugh to be found anywhere. At least Monty Python made fun of many established religious mainstays in \"Life of Brian\" in addition to their questionable take on Jesus' life, but here the humor consists of poo poo jokes and characters constantly bumping their heads. This makes Mel Brooks look like Merchant/Ivory. Churchgoers will be offended, not by the film's attitude toward religion, but by the smugness the movie exhibits, impressed with their own hoitytoityness (I know, not a word) on a subject they obviously know nothing about. \"Wholly Moses!\" is wholly bad, and an embarassment to all involved. I suggest you read the Book instead.This is rated (PG) for some physical violence, profanity, sexual references, and adult situations.      3365      1      0\n",
      "                                                                                                                                                                                                                                                                                                                                                                                                                                                                                                                                                                                                                                                                                                                                                                                                                                                                                                                                                                                                                                                                                                                                                                                                                                                                                                                                                                                                                                                                                                                                                                                                                                                                                                                                                                                                                                                                                                                                                                                                                                                                                                                                 There was a great film to be made about Steve Biko. Sadly this wasn't it. Denzel Washington - never the most flexible of actors - is totally unable to convey the great charisma that Biko had. Attenborough's big crowd scenes are laughable. The Soweto massacre wasn't like this, three neat lines of children ( some doing cartwheels!) marching happily into the guns of the soldiers. With Biko dead the film rapidly descends into farce. If the struggle against Apartheid was anything it was a black people's struggle yet somehow we are all supposed to be gripped by the escape of a white man and his family. I'm sure Donald Woods was a decent man and he would be the first to say that Biko was important while he wasn't. Penelope Wilton's accent is pure Hampshire and she seems completely unaware that she is in South Africa at all. at all. The Wood's family dog gets more lines than the black maid. As the family make their escape one the women I saw the film with - incidentally one of only about a dozen black people in a large, full cinema - whispered \"This is like the sound of music.\" She had a point.Overall this is a film by a well-intentioned if somewhat inept white liberal about a radical black people's struggle. And really South Africa needs well-intentioned white liberals like it needs a hole in the head.      1316      1      0\n",
      "                                                                                                                                                                                                                                                                                                                                                                                                                                                                                                                                                                                                                                                                                                                                                                                                                                                                                                                                                                                                                                                                                                                                                                                                                                                                                                                                                                                                                                                                                                                                                                                                                                                                                                                                                                                                                                                                                                                                                                                                                                                                                                                                                                                                                                                                                                                                                                                                                                                                                                                                                                                                                                                                                                                                                                                                                                                                                                                                                                                                                                                                                                                                                                                                                                                                                                                    I just saw the movie on tv. I really enjoyed it. I like a good mystery. and this one had me guessing up to the end. Sean Connery did a good job. I would recomend it to a friend.       177      9      1\n",
      "\n",
      "--- Test head ---\n",
      "                                                                                                                                                                                                                                                                                                                                                                                                                                                                                                                                                                                                                                                                                                                                                                                                                                                                                                                                                                                                                                                                                                                                                                                                                                                                                                                                                                                                                                                                                                                                                                                                                                                                                                                                                                                                                                                                                                                                                                                                                                                        text  score  label\n",
      "                                                                                                                                                                                                                                                                                                                                                                                                                                                                                                                                                                                                                                                                                                                                                                                                                                                                                                                                                                                                                                                                                                                                                                                                                                  I went and saw this movie last night after being coaxed to by a few friends of mine. I'll admit that I was reluctant to see it because from what I knew of Ashton Kutcher he was only able to do comedy. I was wrong. Kutcher played the character of Jake Fischer very well, and Kevin Costner played Ben Randall with such professionalism. The sign of a good movie is that it can toy with our emotions. This one did exactly that. The entire theater (which was sold out) was overcome by laughter during the first half of the movie, and were moved to tears during the second half. While exiting the theater I not only saw many women in tears, but many full grown men as well, trying desperately not to let anyone see them crying. This movie was great, and I suggest that you go see it before you judge.     10      1\n",
      "Actor turned director Bill Paxton follows up his promising debut, the Gothic-horror \"Frailty\", with this family friendly sports drama about the 1913 U.S. Open where a young American caddy rises from his humble background to play against his Bristish idol in what was dubbed as \"The Greatest Game Ever Played.\" I'm no fan of golf, and these scrappy underdog sports flicks are a dime a dozen (most recently done to grand effect with \"Miracle\" and \"Cinderella Man\"), but some how this film was enthralling all the same.The film starts with some creative opening credits (imagine a Disneyfied version of the animated opening credits of HBO's \"Carnivale\" and \"Rome\"), but lumbers along slowly for its first by-the-numbers hour. Once the action moves to the U.S. Open things pick up very well. Paxton does a nice job and shows a knack for effective directorial flourishes (I loved the rain-soaked montage of the action on day two of the open) that propel the plot further or add some unexpected psychological depth to the proceedings. There's some compelling character development when the British Harry Vardon is haunted by images of the aristocrats in black suits and top hats who destroyed his family cottage as a child to make way for a golf course. He also does a good job of visually depicting what goes on in the players' heads under pressure. Golf, a painfully boring sport, is brought vividly alive here. Credit should also be given the set designers and costume department for creating an engaging period-piece atmosphere of London and Boston at the beginning of the twentieth century.You know how this is going to end not only because it's based on a true story but also because films in this genre follow the same template over and over, but Paxton puts on a better than average show and perhaps indicates more talent behind the camera than he ever had in front of it. Despite the formulaic nature, this is a nice and easy film to root for that deserves to find an audience.      7      1\n",
      "                                                                                                                                                                                                                                                                                                                                                                                                                                                                                                                                                                                          As a recreational golfer with some knowledge of the sport's history, I was pleased with Disney's sensitivity to the issues of class in golf in the early twentieth century. The movie depicted well the psychological battles that Harry Vardon fought within himself, from his childhood trauma of being evicted to his own inability to break that glass ceiling that prevents him from being accepted as an equal in English golf society. Likewise, the young Ouimet goes through his own class struggles, being a mere caddie in the eyes of the upper crust Americans who scoff at his attempts to rise above his standing. What I loved best, however, is how this theme of class is manifested in the characters of Ouimet's parents. His father is a working-class drone who sees the value of hard work but is intimidated by the upper class; his mother, however, recognizes her son's talent and desire and encourages him to pursue his dream of competing against those who think he is inferior.Finally, the golf scenes are well photographed. Although the course used in the movie was not the actual site of the historical tournament, the little liberties taken by Disney do not detract from the beauty of the film. There's one little Disney moment at the pool table; otherwise, the viewer does not really think Disney. The ending, as in \"Miracle,\" is not some Disney creation, but one that only human history could have written.      9      1\n",
      "                                                                                                                                                                                                                                                                                                                                                                                                                                                                                                                                                                                                                                                                                                                                                                                                                                                                                                                                                                                                                                                                                                                                                                                                                                                                                                                                                              I saw this film in a sneak preview, and it is delightful. The cinematography is unusually creative, the acting is good, and the story is fabulous. If this movie does not do well, it won't be because it doesn't deserve to. Before this film, I didn't realize how charming Shia Lebouf could be. He does a marvelous, self-contained, job as the lead. There's something incredibly sweet about him, and it makes the movie even better. The other actors do a good job as well, and the film contains moments of really high suspense, more than one might expect from a movie about golf. Sports movies are a dime a dozen, but this one stands out. This is one I'd recommend to anyone.      8      1\n",
      "                                                                                                                                                                                                                                                                                                                                                                                                                                                                                                                                                                                                                                                                                                                                                                                                                    Bill Paxton has taken the true story of the 1913 US golf open and made a film that is about much more than an extra-ordinary game of golf. The film also deals directly with the class tensions of the early twentieth century and touches upon the profound anti-Catholic prejudices of both the British and American establishments. But at heart the film is about that perennial favourite of triumph against the odds.The acting is exemplary throughout. Stephen Dillane is excellent as usual, but the revelation of the movie is Shia LaBoeuf who delivers a disciplined, dignified and highly sympathetic performance as a working class Franco-Irish kid fighting his way through the prejudices of the New England WASP establishment. For those who are only familiar with his slap-stick performances in \"Even Stevens\" this demonstration of his maturity is a delightful surprise. And Josh Flitter as the ten year old caddy threatens to steal every scene in which he appears.A old fashioned movie in the best sense of the word: fine acting, clear directing and a great story that grips to the end - the final scene an affectionate nod to Casablanca is just one of the many pleasures that fill a great movie.      8      1\n"
     ]
    }
   ],
   "source": [
    "# Cell 3: Split into Train/Validation and subset Test\n",
    "\n",
    "import pandas as pd\n",
    "from sklearn.model_selection import train_test_split\n",
    "\n",
    "# ── paths to my train and test  ────────────────────────────────────────────────────────\n",
    "train_path = r'C:\\NLP project\\Sentiment-Analysis-using-LSTM\\train.csv'\n",
    "test_path  = r'C:\\NLP project\\Sentiment-Analysis-using-LSTM\\test.csv'\n",
    "# ──────────────────────────────────────────────────────────────────────────────\n",
    "\n",
    "# 1. Load full training data and split\n",
    "raw_df = pd.read_csv(train_path)\n",
    "train_df, val_df = train_test_split(\n",
    "    raw_df,\n",
    "    test_size=5000,\n",
    "    random_state=42,\n",
    "    stratify=raw_df['label']\n",
    ")\n",
    "\n",
    "print(\"Train split shape:     \", train_df.shape)\n",
    "print(\"Validation split shape:\", val_df.shape)\n",
    "\n",
    "# 2. Load test and subset to 10k\n",
    "test_df = pd.read_csv(test_path).iloc[:10000]\n",
    "print(\"Test subset shape:     \", test_df.shape)\n",
    "\n",
    "# 3. Preview first rows\n",
    "print(\"\\n--- Train head ---\")\n",
    "print(train_df.head().to_string(index=False))\n",
    "\n",
    "print(\"\\n--- Validation head ---\")\n",
    "print(val_df.head().to_string(index=False))\n",
    "\n",
    "print(\"\\n--- Test head ---\")\n",
    "print(test_df.head().to_string(index=False))\n"
   ]
  },
  {
   "cell_type": "code",
   "execution_count": 6,
   "metadata": {},
   "outputs": [
    {
     "name": "stdout",
     "output_type": "stream",
     "text": [
      "Num training batches:   1250\n",
      "Num validation batches: 313\n",
      "Num test batches:       625\n"
     ]
    }
   ],
   "source": [
    "# Cell 4: Tokenizer, Dataset & DataLoaders\n",
    "\n",
    "from transformers import AutoTokenizer\n",
    "import torch\n",
    "from torch.utils.data import Dataset, DataLoader\n",
    "\n",
    "# 1. Load pretrained tokenizer\n",
    "model_name = 'distilbert-base-uncased'  # feel free to swap this\n",
    "tokenizer = AutoTokenizer.from_pretrained(model_name)\n",
    "\n",
    "# 2. Define a Dataset class\n",
    "class SentimentDataset(Dataset):\n",
    "    def __init__(self, texts, labels, tokenizer, max_length=128):\n",
    "        self.texts = texts\n",
    "        self.labels = labels\n",
    "        self.tokenizer = tokenizer\n",
    "        self.max_length = max_length\n",
    "\n",
    "    def __len__(self):\n",
    "        return len(self.texts)\n",
    "\n",
    "    def __getitem__(self, idx):\n",
    "        text = str(self.texts[idx])\n",
    "        label = int(self.labels[idx])\n",
    "        encoding = self.tokenizer(\n",
    "            text,\n",
    "            truncation=True,\n",
    "            padding='max_length',\n",
    "            max_length=self.max_length,\n",
    "            return_tensors='pt'\n",
    "        )\n",
    "        # Squeeze the batch dimension\n",
    "        item = {key: val.squeeze(0) for key, val in encoding.items()}\n",
    "        item['labels'] = torch.tensor(label)\n",
    "        return item\n",
    "\n",
    "# 3. Instantiate datasets\n",
    "train_ds = SentimentDataset(train_df['text'].tolist(), train_df['label'].tolist(), tokenizer)\n",
    "val_ds   = SentimentDataset(val_df['text'].tolist(),   val_df['label'].tolist(),   tokenizer)\n",
    "test_ds  = SentimentDataset(test_df['text'].tolist(),  test_df['label'].tolist(),  tokenizer)\n",
    "\n",
    "# 4. Create DataLoaders\n",
    "batch_size = 16\n",
    "train_loader = DataLoader(train_ds, batch_size=batch_size, shuffle=True)\n",
    "val_loader   = DataLoader(val_ds,   batch_size=batch_size, shuffle=False)\n",
    "test_loader  = DataLoader(test_ds,  batch_size=batch_size, shuffle=False)\n",
    "\n",
    "# 5. Inspect batch counts\n",
    "print(f\"Num training batches:   {len(train_loader)}\")\n",
    "print(f\"Num validation batches: {len(val_loader)}\")\n",
    "print(f\"Num test batches:       {len(test_loader)}\")\n"
   ]
  },
  {
   "cell_type": "code",
   "execution_count": 7,
   "metadata": {},
   "outputs": [
    {
     "name": "stderr",
     "output_type": "stream",
     "text": [
      "Some weights of DistilBertForSequenceClassification were not initialized from the model checkpoint at distilbert-base-uncased and are newly initialized: ['classifier.bias', 'classifier.weight', 'pre_classifier.bias', 'pre_classifier.weight']\n",
      "You should probably TRAIN this model on a down-stream task to be able to use it for predictions and inference.\n"
     ]
    }
   ],
   "source": [
    "# Cell 5 (updated): Model + Optimizer + Scheduler\n",
    "from transformers import AutoModelForSequenceClassification, get_linear_schedule_with_warmup\n",
    "from torch.optim import AdamW\n",
    "import torch\n",
    "\n",
    "# 1. Load the model and send to GPU if available\n",
    "model = AutoModelForSequenceClassification.from_pretrained(model_name, num_labels=2)\n",
    "device = torch.device(\"cuda\" if torch.cuda.is_available() else \"cpu\")\n",
    "model.to(device)\n",
    "\n",
    "# 2. Optimizer\n",
    "optimizer = AdamW(model.parameters(), lr=2e-5, weight_decay=0.01)\n",
    "\n",
    "# 3. Scheduler\n",
    "num_epochs = 3\n",
    "total_steps = len(train_loader) * num_epochs\n",
    "warmup_steps = int(0.1 * total_steps)\n",
    "scheduler = get_linear_schedule_with_warmup(\n",
    "    optimizer,\n",
    "    num_warmup_steps=warmup_steps,\n",
    "    num_training_steps=total_steps,\n",
    ")\n"
   ]
  },
  {
   "cell_type": "code",
   "execution_count": 8,
   "metadata": {},
   "outputs": [
    {
     "name": "stderr",
     "output_type": "stream",
     "text": [
      "Epoch 1 ▶: 100%|██████████| 1250/1250 [03:00<00:00,  6.93it/s, loss=0.339] \n"
     ]
    },
    {
     "name": "stdout",
     "output_type": "stream",
     "text": [
      "Epoch 1 ◀ Validation Accuracy: 0.8618\n"
     ]
    },
    {
     "name": "stderr",
     "output_type": "stream",
     "text": [
      "Epoch 2 ▶: 100%|██████████| 1250/1250 [02:51<00:00,  7.28it/s, loss=0.144] \n"
     ]
    },
    {
     "name": "stdout",
     "output_type": "stream",
     "text": [
      "Epoch 2 ◀ Validation Accuracy: 0.8738\n"
     ]
    },
    {
     "name": "stderr",
     "output_type": "stream",
     "text": [
      "Epoch 3 ▶: 100%|██████████| 1250/1250 [02:49<00:00,  7.37it/s, loss=0.07]   \n"
     ]
    },
    {
     "name": "stdout",
     "output_type": "stream",
     "text": [
      "Epoch 3 ◀ Validation Accuracy: 0.8732\n"
     ]
    }
   ],
   "source": [
    "from sklearn.metrics import accuracy_score\n",
    "from tqdm.auto import tqdm\n",
    "\n",
    "def evaluate(loader):\n",
    "    model.eval()\n",
    "    all_preds, all_labels = [], []\n",
    "    with torch.no_grad():\n",
    "        for batch in loader:\n",
    "            inputs = {k: v.to(device) for k, v in batch.items() if k != \"labels\"}\n",
    "            labels = batch[\"labels\"].to(device)\n",
    "            outputs = model(**inputs)\n",
    "            preds = outputs.logits.argmax(dim=-1)\n",
    "            all_preds.extend(preds.cpu().tolist())\n",
    "            all_labels.extend(labels.cpu().tolist())\n",
    "    return accuracy_score(all_labels, all_preds)\n",
    "\n",
    "for epoch in range(1, num_epochs+1):\n",
    "    # Training\n",
    "    model.train()\n",
    "    loop = tqdm(train_loader, desc=f\"Epoch {epoch} ▶\")\n",
    "    for batch in loop:\n",
    "        optimizer.zero_grad()\n",
    "        inputs = {k: v.to(device) for k, v in batch.items()}\n",
    "        outputs = model(\n",
    "            input_ids=inputs[\"input_ids\"],\n",
    "            attention_mask=inputs[\"attention_mask\"],\n",
    "            labels=inputs[\"labels\"]\n",
    "        )\n",
    "        loss = outputs.loss\n",
    "        loss.backward()\n",
    "        optimizer.step()\n",
    "        scheduler.step()\n",
    "        loop.set_postfix(loss=loss.item())\n",
    "\n",
    "    # Validation\n",
    "    val_acc = evaluate(val_loader)\n",
    "    print(f\"Epoch {epoch} ◀ Validation Accuracy: {val_acc:.4f}\")\n"
   ]
  },
  {
   "cell_type": "code",
   "execution_count": 9,
   "metadata": {},
   "outputs": [
    {
     "name": "stdout",
     "output_type": "stream",
     "text": [
      "🔥 Test set accuracy: 0.8930\n"
     ]
    }
   ],
   "source": [
    "test_acc = evaluate(test_loader)\n",
    "print(f\"🔥 Test set accuracy: {test_acc:.4f}\")\n"
   ]
  }
 ],
 "metadata": {
  "kernelspec": {
   "display_name": "sentiment2",
   "language": "python",
   "name": "python3"
  },
  "language_info": {
   "codemirror_mode": {
    "name": "ipython",
    "version": 3
   },
   "file_extension": ".py",
   "mimetype": "text/x-python",
   "name": "python",
   "nbconvert_exporter": "python",
   "pygments_lexer": "ipython3",
   "version": "3.9.21"
  }
 },
 "nbformat": 4,
 "nbformat_minor": 2
}
